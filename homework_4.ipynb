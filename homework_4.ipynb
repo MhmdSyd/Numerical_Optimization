{
 "cells": [
  {
   "cell_type": "code",
   "execution_count": 1,
   "metadata": {},
   "outputs": [],
   "source": [
    "import numpy as np\n",
    "import pandas as pd\n",
    "import matplotlib.pyplot as plt\n",
    "from sklearn.metrics import r2_score"
   ]
  },
  {
   "cell_type": "code",
   "execution_count": 2,
   "metadata": {},
   "outputs": [
    {
     "data": {
      "text/plain": [
       "array([ 0,  1,  2,  3,  4,  5,  6,  7,  8,  9, 10, 11, 12, 13, 14, 15, 16,\n",
       "       17, 18, 19])"
      ]
     },
     "execution_count": 2,
     "metadata": {},
     "output_type": "execute_result"
    }
   ],
   "source": [
    "a = -1\n",
    "b = 2\n",
    "array1_shuffled = np.array([*range(20)])\n",
    "array1_shuffled"
   ]
  },
  {
   "cell_type": "code",
   "execution_count": 3,
   "metadata": {},
   "outputs": [
    {
     "data": {
      "text/plain": [
       "array([  2,   1,   0,  -1,  -2,  -3,  -4,  -5,  -6,  -7,  -8,  -9, -10,\n",
       "       -11, -12, -13, -14, -15, -16, -17])"
      ]
     },
     "execution_count": 3,
     "metadata": {},
     "output_type": "execute_result"
    }
   ],
   "source": [
    "array2_shuffled = a * array1_shuffled + b\n",
    "array2_shuffled"
   ]
  },
  {
   "cell_type": "code",
   "execution_count": 4,
   "metadata": {},
   "outputs": [
    {
     "name": "stdout",
     "output_type": "stream",
     "text": [
      "X=  [15 11 19  4  1 12 18  0  3 14 17  7  8 16  9  2 13  6 10  5] \n",
      "Y=  [-13  -9 -17  -2   1 -10 -16   2  -1 -12 -15  -5  -6 -14  -7   0 -11  -4\n",
      "  -8  -3]\n"
     ]
    }
   ],
   "source": [
    "shuffler = np.random.permutation(len(array1_shuffled))\n",
    "X = array1_shuffled[shuffler]\n",
    "Y = array2_shuffled[shuffler]\n",
    "print(\"X= \",X, \"\\nY= \",Y)"
   ]
  },
  {
   "cell_type": "markdown",
   "metadata": {},
   "source": [
    "## Adagrad"
   ]
  },
  {
   "cell_type": "code",
   "execution_count": 5,
   "metadata": {},
   "outputs": [],
   "source": [
    "def adagrad(x, y, itera, b, alpha, epslon):\n",
    "    theta_all = []\n",
    "    cost = []\n",
    "    \n",
    "    X = np.array([float(i) for i in x])\n",
    "    Y = np.array([float(i) for i in y])\n",
    "    theta = np.array([0.0,0.0])\n",
    "    Vt = np.array([0.0,0.0])\n",
    "    cost_new = 0\n",
    "    cost_func = 0\n",
    "    n = len(X)\n",
    "    feature = np.array([np.ones(n),X]).T\n",
    "    h_theta = feature.dot(theta)\n",
    "    j = 0\n",
    "    while ((j < itera) and (abs(cost_new)> 0.01 or j == 0)):\n",
    "        cost_func = cost_new\n",
    "        for i in range(0,int(n/b)):\n",
    "\n",
    "            Wt_0 = (1/(n)) * sum ((h_theta[b*i:b*(i+1)].T-Y[b*i:b*(i+1)]) * feature[b*i:b*(i+1),0])\n",
    "\n",
    "            Vt[0] = Vt[0] + (Wt_0)**2\n",
    "            theta[0] = theta[0] - (alpha / (np.sqrt(Vt[0]) + epslon)) * Wt_0\n",
    "            #====================================================#\n",
    "\n",
    "            Wt_1 = (1/(n)) * sum ((h_theta[b*i:b*(i+1)].T-Y[b*i:b*(i+1)]) * feature[b*i:b*(i+1),1])\n",
    "\n",
    "            Vt[1] = Vt[1] + (Wt_1)**2\n",
    "            theta[1] = theta[1] - (alpha / (np.sqrt(Vt[1]) + epslon)) * Wt_1\n",
    "\n",
    "            h_theta = feature.dot(theta)\n",
    "\n",
    "            cost_new = (1/(2*n))*sum((h_theta - Y)**2)\n",
    "        theta_all.append([theta[0],theta[1]])\n",
    "        cost.append(cost_new)\n",
    "        j = j+1\n",
    "    print(j)\n",
    "    return np.array(theta_all)[:,0],np.array(theta_all)[:,1],cost, h_theta, theta[0], theta[1]"
   ]
  },
  {
   "cell_type": "code",
   "execution_count": 6,
   "metadata": {},
   "outputs": [
    {
     "name": "stdout",
     "output_type": "stream",
     "text": [
      "6988\n"
     ]
    }
   ],
   "source": [
    "thetall_0, thetall_1, cost, h_theta, theta_0 , theta_1 = adagrad(X,Y,10000,len(X), 0.05, 10e-8)"
   ]
  },
  {
   "cell_type": "code",
   "execution_count": 7,
   "metadata": {},
   "outputs": [
    {
     "name": "stdout",
     "output_type": "stream",
     "text": [
      "1.7277074690180032 \t -0.9785136145371547\n"
     ]
    }
   ],
   "source": [
    "print(theta_0,\"\\t\",theta_1)"
   ]
  },
  {
   "cell_type": "code",
   "execution_count": 8,
   "metadata": {},
   "outputs": [
    {
     "data": {
      "image/png": "[encoded data removed]",
      "text/plain": [
       "<Figure size 576x396 with 1 Axes>"
      ]
     },
     "metadata": {},
     "output_type": "display_data"
    }
   ],
   "source": [
    "plt.style.use('seaborn')\n",
    "plt.plot(X,h_theta,label=\"predict line\",color=\"blue\")\n",
    "plt.scatter(X,Y,label=\"Y-points\",color=\"green\")\n",
    "plt.legend()\n",
    "plt.show()"
   ]
  },
  {
   "cell_type": "code",
   "execution_count": 9,
   "metadata": {},
   "outputs": [
    {
     "data": {
      "image/png": "[encoded data removed]",
      "text/plain": [
       "<Figure size 576x396 with 1 Axes>"
      ]
     },
     "metadata": {},
     "output_type": "display_data"
    }
   ],
   "source": [
    "plt.plot([*range(len(cost))],cost)\n",
    "plt.show()"
   ]
  },
  {
   "cell_type": "code",
   "execution_count": 10,
   "metadata": {},
   "outputs": [
    {
     "name": "stdout",
     "output_type": "stream",
     "text": [
      "0.009998878506557661\n"
     ]
    }
   ],
   "source": [
    "print(cost[-1])"
   ]
  },
  {
   "cell_type": "markdown",
   "metadata": {},
   "source": [
    "## RMS_Prop"
   ]
  },
  {
   "cell_type": "code",
   "execution_count": 11,
   "metadata": {},
   "outputs": [],
   "source": [
    "def rms_prop(x, y, itera, b, alpha, epslon, beta):\n",
    "    theta_all = []\n",
    "    cost = []\n",
    "    \n",
    "    X = np.array([float(i) for i in x])\n",
    "    Y = np.array([float(i) for i in y])\n",
    "    theta = np.array([0.0,0.0])\n",
    "    Vt = np.array([0.0,0.0])\n",
    "    cost_new = 0\n",
    "    cost_func = 0\n",
    "    n = len(X)\n",
    "    feature = np.array([np.ones(n),X]).T\n",
    "    h_theta = feature.dot(theta)\n",
    "    j = 0\n",
    "    while ((j < itera) and (abs(cost_new)> 0.01 or j == 0)):\n",
    "        cost_func = cost_new\n",
    "        for i in range(0,int(n/b)):\n",
    "\n",
    "            Wt_0 = (1/(n)) * sum ((h_theta[b*i:b*(i+1)].T-Y[b*i:b*(i+1)]) * feature[b*i:b*(i+1),0])\n",
    "\n",
    "            Vt[0] = beta * Vt[0] + (1 - beta) * (Wt_0)**2\n",
    "            theta[0] = theta[0] - (alpha / (np.sqrt(Vt[0]) + epslon)) * Wt_0\n",
    "            #====================================================#\n",
    "\n",
    "            Wt_1 = (1/(n)) * sum ((h_theta[b*i:b*(i+1)].T-Y[b*i:b*(i+1)]) * feature[b*i:b*(i+1),1])\n",
    "\n",
    "            Vt[1] = beta * Vt[1] + (1 - beta) * (Wt_1)**2\n",
    "            theta[1] = theta[1] - (alpha / (np.sqrt(Vt[1]) + epslon)) * Wt_1\n",
    "\n",
    "            h_theta = feature.dot(theta)\n",
    "\n",
    "            cost_new = (1/(2*n))*sum((h_theta - Y)**2)\n",
    "        theta_all.append([theta[0],theta[1]])\n",
    "        cost.append(cost_new)\n",
    "        j = j+1\n",
    "    print(j)\n",
    "    return np.array(theta_all)[:,0],np.array(theta_all)[:,1],cost, h_theta, theta[0], theta[1]\n",
    "    "
   ]
  },
  {
   "cell_type": "code",
   "execution_count": 12,
   "metadata": {},
   "outputs": [
    {
     "name": "stdout",
     "output_type": "stream",
     "text": [
      "351\n"
     ]
    }
   ],
   "source": [
    "thetall_0, thetall_1, cost, h_theta, theta_0 , theta_1 = rms_prop(X,Y,10000,len(X), 0.01, 10e-8, 0.9)"
   ]
  },
  {
   "cell_type": "code",
   "execution_count": 13,
   "metadata": {},
   "outputs": [
    {
     "name": "stdout",
     "output_type": "stream",
     "text": [
      "1.757640364784583 \t -0.9758659119813452\n"
     ]
    }
   ],
   "source": [
    "print(theta_0,\"\\t\",theta_1)"
   ]
  },
  {
   "cell_type": "code",
   "execution_count": 14,
   "metadata": {},
   "outputs": [
    {
     "data": {
      "image/png": "[encoded data removed]",
      "text/plain": [
       "<Figure size 576x396 with 1 Axes>"
      ]
     },
     "metadata": {},
     "output_type": "display_data"
    }
   ],
   "source": [
    "plt.style.use('seaborn')\n",
    "plt.plot(X,h_theta,label=\"predict line\",color=\"blue\")\n",
    "plt.scatter(X,Y,label=\"Y-points\",color=\"green\")\n",
    "plt.legend()\n",
    "plt.show()"
   ]
  },
  {
   "cell_type": "code",
   "execution_count": 15,
   "metadata": {},
   "outputs": [
    {
     "data": {
      "image/png": "[encoded data removed]",
      "text/plain": [
       "<Figure size 576x396 with 1 Axes>"
      ]
     },
     "metadata": {},
     "output_type": "display_data"
    }
   ],
   "source": [
    "plt.plot([*range(len(cost))],cost)\n",
    "plt.show()"
   ]
  },
  {
   "cell_type": "code",
   "execution_count": 16,
   "metadata": {},
   "outputs": [
    {
     "data": {
      "text/plain": [
       "0.999412395776366"
      ]
     },
     "execution_count": 16,
     "metadata": {},
     "output_type": "execute_result"
    }
   ],
   "source": [
    "r2_score(Y, h_theta)"
   ]
  },
  {
   "cell_type": "code",
   "execution_count": 17,
   "metadata": {},
   "outputs": [
    {
     "name": "stdout",
     "output_type": "stream",
     "text": [
      "0.009768920217916451\n"
     ]
    }
   ],
   "source": [
    "print(cost[-1])"
   ]
  },
  {
   "cell_type": "markdown",
   "metadata": {},
   "source": [
    "## Adam"
   ]
  },
  {
   "cell_type": "code",
   "execution_count": 72,
   "metadata": {},
   "outputs": [],
   "source": [
    "def adam(x, y, itera, b, alpha, epslon, beta_1, beta_2):\n",
    "    theta_all = []\n",
    "    cost = []\n",
    "    \n",
    "    X = np.array([float(i) for i in x])\n",
    "    Y = np.array([float(i) for i in y])\n",
    "    theta = np.array([0.0,0.0])\n",
    "    Vt = np.array([0.0,0.0])\n",
    "    mt = np.array([0.0,0.0])\n",
    "    cost_new = 0\n",
    "    cost_func = 0\n",
    "    n = len(X)\n",
    "    feature = np.array([np.ones(n),X]).T\n",
    "    h_theta = feature.dot(theta)\n",
    "    j = 0\n",
    "    while  (j < itera) and (abs(cost_new)> 0.01 or j == 0):\n",
    "        cost_func = cost_new\n",
    "        for i in range(0,int(n/b)):\n",
    "\n",
    "            Wt_0 = (1/(n)) * sum ((h_theta[b*i:b*(i+1)].T-Y[b*i:b*(i+1)]) * feature[b*i:b*(i+1),0])\n",
    "            mt[0] =beta_1 * mt[0] + (1-beta_1) * Wt_0\n",
    "\n",
    "            Vt[0] = beta_2 * Vt[0] + (1-beta_2) * ((Wt_0)**2)\n",
    "#             mt[0] = mt[0] / (1-beta_1**(j+1))\n",
    "#             Vt[0] = Vt[0] / (1-beta_2**(j+1))\n",
    "            theta[0] = theta[0] - (alpha / (np.sqrt(Vt[0]) + epslon)) * mt[0]\n",
    "            #====================================================#\n",
    "\n",
    "            Wt_1 = (1/(n)) * sum ((h_theta[b*i:b*(i+1)].T-Y[b*i:b*(i+1)]) * feature[b*i:b*(i+1),1])\n",
    "            mt[1] =beta_1 * mt[1] + (1-beta_1) * Wt_1\n",
    "\n",
    "            Vt[1] = beta_2 * Vt[1] + (1-beta_2) * ((Wt_1)**2)\n",
    "#             mt[1] = mt[1] /(1-beta_1**(j+1))\n",
    "#             Vt[1] = Vt[1] / (1-beta_2**(j+1))\n",
    "            theta[1] = theta[1] - (alpha / (np.sqrt(Vt[1]) + epslon)) * mt[1]\n",
    "\n",
    "            h_theta = feature.dot(theta)\n",
    "\n",
    "            cost_new = (1/(2*n))*sum((h_theta - Y)**2)\n",
    "        theta_all.append([theta[0],theta[1]])\n",
    "        cost.append(cost_new)\n",
    "        j +=1\n",
    "    print(j)\n",
    "    return np.array(theta_all)[:,0],np.array(theta_all)[:,1],cost, h_theta, theta[0], theta[1]"
   ]
  },
  {
   "cell_type": "code",
   "execution_count": 80,
   "metadata": {},
   "outputs": [
    {
     "name": "stdout",
     "output_type": "stream",
     "text": [
      "381\n"
     ]
    }
   ],
   "source": [
    "thetall_0, thetall_1, cost, h_theta, theta_0 , theta_1 = adam(X,Y, 10000,len(X), 0.01, 10e-8, 0.9, 0.95)"
   ]
  },
  {
   "cell_type": "code",
   "execution_count": 81,
   "metadata": {},
   "outputs": [
    {
     "name": "stdout",
     "output_type": "stream",
     "text": [
      "1.7331788689220509 \t -0.9797526894495739\n"
     ]
    }
   ],
   "source": [
    "print(theta_0,\"\\t\",theta_1)"
   ]
  },
  {
   "cell_type": "code",
   "execution_count": 82,
   "metadata": {},
   "outputs": [
    {
     "data": {
      "image/png": "[encoded data removed]",
      "text/plain": [
       "<Figure size 576x396 with 1 Axes>"
      ]
     },
     "metadata": {},
     "output_type": "display_data"
    }
   ],
   "source": [
    "plt.style.use('seaborn')\n",
    "plt.plot(X,h_theta,label=\"predict line\",color=\"blue\")\n",
    "plt.scatter(X,Y,label=\"Y-points\",color=\"green\")\n",
    "plt.legend()\n",
    "plt.show()"
   ]
  },
  {
   "cell_type": "code",
   "execution_count": 83,
   "metadata": {},
   "outputs": [
    {
     "data": {
      "image/png": "[encoded data removed]",
      "text/plain": [
       "<Figure size 576x396 with 1 Axes>"
      ]
     },
     "metadata": {},
     "output_type": "display_data"
    }
   ],
   "source": [
    "plt.plot([*range(len(cost))],cost)\n",
    "plt.show()"
   ]
  },
  {
   "cell_type": "code",
   "execution_count": 84,
   "metadata": {},
   "outputs": [
    {
     "name": "stdout",
     "output_type": "stream",
     "text": [
      "0.009588493966965005\n"
     ]
    }
   ],
   "source": [
    "print(cost[-1])"
   ]
  },
  {
   "cell_type": "code",
   "execution_count": 85,
   "metadata": {},
   "outputs": [
    {
     "data": {
      "text/plain": [
       "0.9994232484831901"
      ]
     },
     "execution_count": 85,
     "metadata": {},
     "output_type": "execute_result"
    }
   ],
   "source": [
    "r2_score(Y, h_theta)"
   ]
  },
  {
   "cell_type": "code",
   "execution_count": 86,
   "metadata": {},
   "outputs": [
    {
     "data": {
      "text/plain": [
       "[<matplotlib.lines.Line2D at 0x238ec79f1f0>]"
      ]
     },
     "execution_count": 86,
     "metadata": {},
     "output_type": "execute_result"
    },
    {
     "data": {
      "image/png": "[encoded data removed]",
      "text/plain": [
       "<Figure size 576x396 with 1 Axes>"
      ]
     },
     "metadata": {},
     "output_type": "display_data"
    }
   ],
   "source": [
    "plt.plot([*range(len(thetall_0))],thetall_0)"
   ]
  },
  {
   "cell_type": "code",
   "execution_count": null,
   "metadata": {},
   "outputs": [],
   "source": []
  },
  {
   "cell_type": "code",
   "execution_count": null,
   "metadata": {},
   "outputs": [],
   "source": []
  },
  {
   "cell_type": "code",
   "execution_count": null,
   "metadata": {},
   "outputs": [],
   "source": []
  },
  {
   "cell_type": "code",
   "execution_count": null,
   "metadata": {},
   "outputs": [],
   "source": []
  },
  {
   "cell_type": "code",
   "execution_count": null,
   "metadata": {},
   "outputs": [],
   "source": []
  }
 ],
 "metadata": {
  "kernelspec": {
   "display_name": "Python 3",
   "language": "python",
   "name": "python3"
  },
  "language_info": {
   "codemirror_mode": {
    "name": "ipython",
    "version": 3
   },
   "file_extension": ".py",
   "mimetype": "text/x-python",
   "name": "python",
   "nbconvert_exporter": "python",
   "pygments_lexer": "ipython3",
   "version": "3.8.3"
  }
 },
 "nbformat": 4,
 "nbformat_minor": 4
}
