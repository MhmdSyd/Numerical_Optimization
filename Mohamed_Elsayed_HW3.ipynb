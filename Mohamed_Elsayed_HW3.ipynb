{
 "cells": [
  {
   "cell_type": "markdown",
   "metadata": {},
   "source": [
    "### GD Batch"
   ]
  },
  {
   "cell_type": "code",
   "execution_count": 48,
   "metadata": {},
   "outputs": [],
   "source": [
    "import pandas as pd\n",
    "import numpy as np\n",
    "import matplotlib.pyplot as plt"
   ]
  },
  {
   "cell_type": "code",
   "execution_count": 49,
   "metadata": {},
   "outputs": [
    {
     "data": {
      "text/plain": [
       "array([ 1.,  2.,  3.,  1.,  4.,  5.,  6.,  4.,  7., 10., 15.,  9.])"
      ]
     },
     "execution_count": 49,
     "metadata": {},
     "output_type": "execute_result"
    }
   ],
   "source": [
    "X = [1,1,2,3,4,5,6,7,8,9,10,11]\n",
    "x = np.array([float(i) for i in X ])\n",
    "Y = [1,2,3,1,4,5,6,4,7,10,15,9]\n",
    "y = np.array([float(i) for i in Y ])\n",
    "y"
   ]
  },
  {
   "cell_type": "code",
   "execution_count": 50,
   "metadata": {},
   "outputs": [],
   "source": [
    "df = pd.DataFrame([*zip(x,y)])\n",
    "df.columns =[\"x\",\"y\"]"
   ]
  },
  {
   "cell_type": "code",
   "execution_count": 51,
   "metadata": {},
   "outputs": [
    {
     "data": {
      "image/png": "[encoded data removed]",
      "text/plain": [
       "<Figure size 576x396 with 1 Axes>"
      ]
     },
     "metadata": {},
     "output_type": "display_data"
    }
   ],
   "source": [
    "plt.style.use('seaborn')\n",
    "plt.title(\"X vs Y\")\n",
    "plt.scatter(x,y,color=\"blue\",label=\"XY\")\n",
    "plt.show()"
   ]
  },
  {
   "cell_type": "code",
   "execution_count": 52,
   "metadata": {},
   "outputs": [
    {
     "data": {
      "text/plain": [
       "array([0., 0., 0., 0., 0., 0., 0., 0., 0., 0., 0., 0.])"
      ]
     },
     "execution_count": 52,
     "metadata": {},
     "output_type": "execute_result"
    }
   ],
   "source": [
    "theta = np.array([0.0,0.0])\n",
    "alpha = 0.0001\n",
    "n = len(x)\n",
    "features = np.array([np.ones(n),x]).T\n",
    "h_theta = features.dot(theta)\n",
    "h_theta"
   ]
  },
  {
   "cell_type": "code",
   "execution_count": 53,
   "metadata": {},
   "outputs": [
    {
     "data": {
      "text/plain": [
       "23.458333333333332"
      ]
     },
     "execution_count": 53,
     "metadata": {},
     "output_type": "execute_result"
    }
   ],
   "source": [
    "cost_func = (1/(2*n)) * sum((h_theta - y)**2)\n",
    "cost_func"
   ]
  },
  {
   "cell_type": "code",
   "execution_count": 54,
   "metadata": {},
   "outputs": [],
   "source": [
    "theta_new = np.array([0.0,0.0])\n"
   ]
  },
  {
   "cell_type": "code",
   "execution_count": 55,
   "metadata": {},
   "outputs": [
    {
     "name": "stdout",
     "output_type": "stream",
     "text": [
      "1.917986105442334\n"
     ]
    }
   ],
   "source": [
    "itera = 0 \n",
    "while cost_func > 0.1 and itera < 10000:\n",
    "    theta_new[0] = theta[0] - (alpha * (1/(n)) * sum ((h_theta.T-y) * features[:,0]))\n",
    "    \n",
    "    theta_new[1] = theta[1] - (alpha * (1/(n)) * sum ((h_theta.T-y) * features[:,1]))\n",
    "    theta[0] = theta_new[0]\n",
    "    theta[1] = theta_new[1]\n",
    "    h_theta = features.dot(theta)\n",
    "    cost_func = (1/(2*n))*sum((h_theta - y)**2)\n",
    "    itera +=1\n",
    "\n",
    "print(cost_func)"
   ]
  },
  {
   "cell_type": "code",
   "execution_count": 56,
   "metadata": {},
   "outputs": [
    {
     "data": {
      "text/plain": [
       "array([ 1.05673001,  1.05673001,  2.05920831,  3.06168661,  4.06416491,\n",
       "        5.06664321,  6.06912151,  7.0715998 ,  8.0740781 ,  9.0765564 ,\n",
       "       10.0790347 , 11.081513  ])"
      ]
     },
     "execution_count": 56,
     "metadata": {},
     "output_type": "execute_result"
    }
   ],
   "source": [
    "h_theta = features.dot(theta)\n",
    "h_theta"
   ]
  },
  {
   "cell_type": "code",
   "execution_count": 57,
   "metadata": {},
   "outputs": [
    {
     "data": {
      "image/png": "[encoded data removed]",
      "text/plain": [
       "<Figure size 576x396 with 1 Axes>"
      ]
     },
     "metadata": {},
     "output_type": "display_data"
    }
   ],
   "source": [
    "plt.style.use('seaborn')\n",
    "plt.scatter(x,y,color=\"blue\")\n",
    "plt.plot(x,h_theta,color=\"green\")\n",
    "plt.show()"
   ]
  },
  {
   "cell_type": "markdown",
   "metadata": {},
   "source": [
    "### Mini-Batch"
   ]
  },
  {
   "cell_type": "code",
   "execution_count": 58,
   "metadata": {},
   "outputs": [
    {
     "data": {
      "text/plain": [
       "array([ 1.,  2.,  3.,  1.,  4.,  5.,  6.,  4.,  7., 10., 15.,  9.])"
      ]
     },
     "execution_count": 58,
     "metadata": {},
     "output_type": "execute_result"
    }
   ],
   "source": [
    "X = [1,1,2,3,4,5,6,7,8,9,10,11]\n",
    "x = np.array([float(i) for i in X ])\n",
    "Y = [1,2,3,1,4,5,6,4,7,10,15,9]\n",
    "y = np.array([float(i) for i in Y ])\n",
    "y"
   ]
  },
  {
   "cell_type": "code",
   "execution_count": 59,
   "metadata": {},
   "outputs": [
    {
     "data": {
      "text/plain": [
       "array([0., 0., 0.])"
      ]
     },
     "execution_count": 59,
     "metadata": {},
     "output_type": "execute_result"
    }
   ],
   "source": [
    "theta = np.array([0.0,0.0])\n",
    "alpha = 0.0001\n",
    "b = 3\n",
    "m = len(x)\n",
    "features = np.array([np.ones(n),x]).T\n",
    "h_theta = features[0:b,:].dot(theta)\n",
    "h_theta"
   ]
  },
  {
   "cell_type": "code",
   "execution_count": 60,
   "metadata": {},
   "outputs": [
    {
     "data": {
      "text/plain": [
       "2.333333333333333"
      ]
     },
     "execution_count": 60,
     "metadata": {},
     "output_type": "execute_result"
    }
   ],
   "source": [
    "cost_func = (1/(2*b)) * sum((h_theta - y[:b,])**2)\n",
    "cost_func"
   ]
  },
  {
   "cell_type": "code",
   "execution_count": 61,
   "metadata": {},
   "outputs": [],
   "source": [
    "theta_new = np.array([0.0,0.0])"
   ]
  },
  {
   "cell_type": "code",
   "execution_count": 62,
   "metadata": {},
   "outputs": [
    {
     "name": "stdout",
     "output_type": "stream",
     "text": [
      "2.7777396007355524\n"
     ]
    }
   ],
   "source": [
    "itera = 0 \n",
    "while cost_func > 0.1 and itera < 10000:\n",
    "    for i in range(b):\n",
    "        theta_new[0] = theta[0] - (alpha * (1/(n)) * sum ((h_theta[4*(i-1):4*i,].T-y[4*(i-1):4*i,]) * features[4*(i-1):4*i,0]))\n",
    "\n",
    "        theta_new[1] = theta[1] - (alpha * (1/(n)) * sum ((h_theta[4*(i-1):4*i,].T-y[4*(i-1):4*i,]) * features[4*(i-1):4*i,1]))\n",
    "        theta[0] = theta_new[0]\n",
    "        theta[1] = theta_new[1]\n",
    "        h_theta = features.dot(theta)\n",
    "    cost_func = (1/(2*n))*sum((h_theta - y)**2)\n",
    "    itera +=1\n",
    "\n",
    "print(cost_func)"
   ]
  },
  {
   "cell_type": "code",
   "execution_count": 63,
   "metadata": {},
   "outputs": [
    {
     "data": {
      "text/plain": [
       "array([1.05747147, 1.05747147, 1.83073771, 2.60400394, 3.37727018,\n",
       "       4.15053642, 4.92380266, 5.69706889, 6.47033513, 7.24360137,\n",
       "       8.01686761, 8.79013385])"
      ]
     },
     "execution_count": 63,
     "metadata": {},
     "output_type": "execute_result"
    }
   ],
   "source": [
    "h_theta = features.dot(theta)\n",
    "h_theta"
   ]
  },
  {
   "cell_type": "code",
   "execution_count": 64,
   "metadata": {},
   "outputs": [
    {
     "data": {
      "image/png": "[encoded data removed]",
      "text/plain": [
       "<Figure size 576x396 with 1 Axes>"
      ]
     },
     "metadata": {},
     "output_type": "display_data"
    }
   ],
   "source": [
    "plt.style.use('seaborn')\n",
    "plt.scatter(x,y,color=\"blue\")\n",
    "plt.plot(x,h_theta,color=\"green\")\n",
    "plt.show()"
   ]
  },
  {
   "cell_type": "markdown",
   "metadata": {},
   "source": [
    "### stochastic GD."
   ]
  },
  {
   "cell_type": "code",
   "execution_count": 65,
   "metadata": {},
   "outputs": [
    {
     "data": {
      "text/plain": [
       "array([ 1.,  2.,  3.,  1.,  4.,  5.,  6.,  4.,  7., 10., 15.,  9.])"
      ]
     },
     "execution_count": 65,
     "metadata": {},
     "output_type": "execute_result"
    }
   ],
   "source": [
    "X = [1,1,2,3,4,5,6,7,8,9,10,11]\n",
    "x = np.array([float(i) for i in X ])\n",
    "Y = [1,2,3,1,4,5,6,4,7,10,15,9]\n",
    "y = np.array([float(i) for i in Y ])\n",
    "y"
   ]
  },
  {
   "cell_type": "code",
   "execution_count": 66,
   "metadata": {},
   "outputs": [
    {
     "data": {
      "text/plain": [
       "array([0., 0., 0., 0., 0., 0., 0., 0., 0., 0., 0., 0.])"
      ]
     },
     "execution_count": 66,
     "metadata": {},
     "output_type": "execute_result"
    }
   ],
   "source": [
    "theta = np.array([0.0,0.0])\n",
    "alpha = 0.0001\n",
    "b = 3\n",
    "m = len(x)\n",
    "features = np.array([np.ones(n),x]).T\n",
    "h_theta = features.dot(theta)\n",
    "h_theta"
   ]
  },
  {
   "cell_type": "code",
   "execution_count": 67,
   "metadata": {},
   "outputs": [
    {
     "data": {
      "text/plain": [
       "1.0"
      ]
     },
     "execution_count": 67,
     "metadata": {},
     "output_type": "execute_result"
    }
   ],
   "source": [
    "cost_func =(h_theta[0,] - y[0,])**2\n",
    "cost_func"
   ]
  },
  {
   "cell_type": "code",
   "execution_count": 68,
   "metadata": {},
   "outputs": [],
   "source": [
    "theta_new = np.array([0.0,0.0])"
   ]
  },
  {
   "cell_type": "code",
   "execution_count": 69,
   "metadata": {},
   "outputs": [
    {
     "name": "stdout",
     "output_type": "stream",
     "text": [
      "4.862288486542771\n"
     ]
    }
   ],
   "source": [
    "itera = 0 \n",
    "while cost_func > 0.1 and itera < 10000:\n",
    "    for i in range(m):\n",
    "        theta_new[0] = theta[0] - (alpha * (h_theta[i,] - y[i,]) * features[i,0])\n",
    "\n",
    "        theta_new[1] = theta[1] - (alpha * (h_theta[i,] - y[i,]) * features[i,1])\n",
    "        theta[0] = theta_new[0]\n",
    "        theta[1] = theta_new[1]\n",
    "        h_theta = features.dot(theta)\n",
    "    costfunc = (h_theta[i,] - y[i,])**2\n",
    "    itera +=1\n",
    "\n",
    "print(costfunc)"
   ]
  },
  {
   "cell_type": "code",
   "execution_count": 70,
   "metadata": {},
   "outputs": [
    {
     "data": {
      "image/png": "[encoded data removed]",
      "text/plain": [
       "<Figure size 576x396 with 1 Axes>"
      ]
     },
     "metadata": {},
     "output_type": "display_data"
    }
   ],
   "source": [
    "plt.style.use('seaborn')\n",
    "plt.scatter(x,y,color=\"blue\")\n",
    "plt.plot(x,h_theta,color=\"green\")\n",
    "plt.show()"
   ]
  },
  {
   "cell_type": "code",
   "execution_count": null,
   "metadata": {},
   "outputs": [],
   "source": []
  },
  {
   "cell_type": "code",
   "execution_count": null,
   "metadata": {},
   "outputs": [],
   "source": []
  }
 ],
 "metadata": {
  "kernelspec": {
   "display_name": "Python 3",
   "language": "python",
   "name": "python3"
  },
  "language_info": {
   "codemirror_mode": {
    "name": "ipython",
    "version": 3
   },
   "file_extension": ".py",
   "mimetype": "text/x-python",
   "name": "python",
   "nbconvert_exporter": "python",
   "pygments_lexer": "ipython3",
   "version": "3.8.3"
  }
 },
 "nbformat": 4,
 "nbformat_minor": 4
}
